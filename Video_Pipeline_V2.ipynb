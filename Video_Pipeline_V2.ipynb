{
 "cells": [
  {
   "cell_type": "code",
   "execution_count": null,
   "metadata": {},
   "outputs": [],
   "source": [
    "import matplotlib.image as mpimg\n",
    "import matplotlib.pyplot as plt\n",
    "import numpy as np\n",
    "import pickle\n",
    "import cv2\n",
    "import os\n",
    "import glob\n",
    "import time\n",
    "from functions import *"
   ]
  },
  {
   "cell_type": "code",
   "execution_count": null,
   "metadata": {},
   "outputs": [],
   "source": [
    "# Read training data \n",
    "# Car\n",
    "cars_files    = glob.glob('C://big/p5/vehicles/**/*.png', recursive=True)\n",
    "# Not Car\n",
    "notcars_files = glob.glob('C://big/p5/non-vehicles/**/*.png', recursive=True)\n",
    "\n",
    "# store filenames in cars,notcars\n",
    "cars=[]\n",
    "notcars=[]\n",
    "# search through readed data \n",
    "# read every third image to split time-series of images\n",
    "for n in range(len(cars_files)):\n",
    "    if n % 3 == 0:\n",
    "        cars.append(cars_files[n])\n",
    "#print(cars)\n",
    "\n",
    "# Do the same for non-car data\n",
    "for n in range(len(notcars_files)):\n",
    "    if n % 3 == 0:\n",
    "        notcars.append(notcars_files[n])\n",
    "        \n",
    "print('Cars size is: ',np.shape(cars))\n",
    "print('Not-Cars size is: ',np.shape(notcars))"
   ]
  },
  {
   "cell_type": "code",
   "execution_count": null,
   "metadata": {},
   "outputs": [],
   "source": [
    "# Testing functions above - pickle_extracted_features()\n",
    "cspace='RGB'\n",
    "orient = 9\n",
    "pix_per_cell = 4\n",
    "cell_per_block = 2 \n",
    "hog_channel = 'ALL'\n",
    "\n",
    "pickle_extracted_features(cars,notcars,cspace,orient,pix_per_cell,cell_per_block,hog_channel)"
   ]
  },
  {
   "cell_type": "code",
   "execution_count": null,
   "metadata": {
    "collapsed": true
   },
   "outputs": [],
   "source": []
  }
 ],
 "metadata": {
  "kernelspec": {
   "display_name": "Python 3",
   "language": "python",
   "name": "python3"
  },
  "language_info": {
   "codemirror_mode": {
    "name": "ipython",
    "version": 3
   },
   "file_extension": ".py",
   "mimetype": "text/x-python",
   "name": "python",
   "nbconvert_exporter": "python",
   "pygments_lexer": "ipython3",
   "version": "3.5.3"
  }
 },
 "nbformat": 4,
 "nbformat_minor": 2
}
