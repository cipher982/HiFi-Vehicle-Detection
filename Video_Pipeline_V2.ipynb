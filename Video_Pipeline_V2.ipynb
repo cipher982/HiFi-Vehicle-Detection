{
 "cells": [
  {
   "cell_type": "code",
   "execution_count": 1,
   "metadata": {},
   "outputs": [],
   "source": [
    "import matplotlib.image as mpimg\n",
    "import matplotlib.pyplot as plt\n",
    "import numpy as np\n",
    "import pickle\n",
    "import cv2\n",
    "import os\n",
    "import glob\n",
    "import time\n",
    "from functions import *"
   ]
  },
  {
   "cell_type": "code",
   "execution_count": 2,
   "metadata": {},
   "outputs": [
    {
     "name": "stdout",
     "output_type": "stream",
     "text": [
      "Cars size is:  (2931,)\n",
      "Not-Cars size is:  (2990,)\n"
     ]
    }
   ],
   "source": [
    "# Read training data \n",
    "# Car\n",
    "cars_files    = glob.glob('C://big/p5/vehicles/**/*.png', recursive=True)\n",
    "# Not Car\n",
    "notcars_files = glob.glob('C://big/p5/non-vehicles/**/*.png', recursive=True)\n",
    "\n",
    "# store filenames in cars,notcars\n",
    "cars=[]\n",
    "notcars=[]\n",
    "# search through readed data \n",
    "# read every third image to split time-series of images\n",
    "for n in range(len(cars_files)):\n",
    "    if n % 3 == 0:\n",
    "        cars.append(cars_files[n])\n",
    "#print(cars)\n",
    "\n",
    "# Do the same for non-car data\n",
    "for n in range(len(notcars_files)):\n",
    "    if n % 3 == 0:\n",
    "        notcars.append(notcars_files[n])\n",
    "        \n",
    "print('Cars size is: ',np.shape(cars))\n",
    "print('Not-Cars size is: ',np.shape(notcars))"
   ]
  },
  {
   "cell_type": "code",
   "execution_count": 3,
   "metadata": {},
   "outputs": [
    {
     "name": "stderr",
     "output_type": "stream",
     "text": [
      "C:\\Anaconda3\\envs\\tensorflow-gpu\\lib\\site-packages\\skimage\\feature\\_hog.py:119: skimage_deprecation: Default value of `block_norm`==`L1` is deprecated and will be changed to `L2-Hys` in v0.15\n",
      "  'be changed to `L2-Hys` in v0.15', skimage_deprecation)\n"
     ]
    },
    {
     "ename": "TypeError",
     "evalue": "unsupported operand type(s) for -: 'float' and 'module'",
     "output_type": "error",
     "traceback": [
      "\u001b[1;31m---------------------------------------------------------------------------\u001b[0m",
      "\u001b[1;31mTypeError\u001b[0m                                 Traceback (most recent call last)",
      "\u001b[1;32m<ipython-input-3-8cac9f0524a7>\u001b[0m in \u001b[0;36m<module>\u001b[1;34m()\u001b[0m\n\u001b[0;32m      6\u001b[0m \u001b[0mhog_channel\u001b[0m \u001b[1;33m=\u001b[0m \u001b[1;34m'ALL'\u001b[0m\u001b[1;33m\u001b[0m\u001b[0m\n\u001b[0;32m      7\u001b[0m \u001b[1;33m\u001b[0m\u001b[0m\n\u001b[1;32m----> 8\u001b[1;33m \u001b[0mpickle_extracted_features\u001b[0m\u001b[1;33m(\u001b[0m\u001b[0mcars\u001b[0m\u001b[1;33m,\u001b[0m\u001b[0mnotcars\u001b[0m\u001b[1;33m,\u001b[0m\u001b[0mcspace\u001b[0m\u001b[1;33m,\u001b[0m\u001b[0morient\u001b[0m\u001b[1;33m,\u001b[0m\u001b[0mpix_per_cell\u001b[0m\u001b[1;33m,\u001b[0m\u001b[0mcell_per_block\u001b[0m\u001b[1;33m,\u001b[0m\u001b[0mhog_channel\u001b[0m\u001b[1;33m)\u001b[0m\u001b[1;33m\u001b[0m\u001b[0m\n\u001b[0m",
      "\u001b[1;32mc:\\Users\\drose\\Google Drive\\mooc\\udacity\\sdc\\p5\\HiFi-Vehicle-Detection\\functions.py\u001b[0m in \u001b[0;36mpickle_extracted_features\u001b[1;34m(cars, notcars, cspace, orient, px_per_cell, cl_per_block, hog_ch, spat_size, hist_bins)\u001b[0m\n\u001b[0;32m    174\u001b[0m     \u001b[1;31m# Time End\u001b[0m\u001b[1;33m\u001b[0m\u001b[1;33m\u001b[0m\u001b[0m\n\u001b[0;32m    175\u001b[0m     \u001b[0mtime2\u001b[0m \u001b[1;33m=\u001b[0m \u001b[0mtime\u001b[0m\u001b[1;33m.\u001b[0m\u001b[0mtime\u001b[0m\u001b[1;33m(\u001b[0m\u001b[1;33m)\u001b[0m\u001b[1;33m\u001b[0m\u001b[0m\n\u001b[1;32m--> 176\u001b[1;33m     \u001b[0mprint\u001b[0m\u001b[1;33m(\u001b[0m\u001b[1;34m' Seconds to extract features: '\u001b[0m\u001b[1;33m,\u001b[0m\u001b[0mround\u001b[0m\u001b[1;33m(\u001b[0m\u001b[0mtime2\u001b[0m\u001b[1;33m-\u001b[0m\u001b[0mtime\u001b[0m\u001b[1;33m,\u001b[0m \u001b[1;36m2\u001b[0m\u001b[1;33m)\u001b[0m\u001b[1;33m)\u001b[0m\u001b[1;33m\u001b[0m\u001b[0m\n\u001b[0m\u001b[0;32m    177\u001b[0m \u001b[1;33m\u001b[0m\u001b[0m\n\u001b[0;32m    178\u001b[0m     \u001b[0mX\u001b[0m \u001b[1;33m=\u001b[0m \u001b[0mnp\u001b[0m\u001b[1;33m.\u001b[0m\u001b[0mvstack\u001b[0m\u001b[1;33m(\u001b[0m\u001b[1;33m(\u001b[0m\u001b[0mcar_features\u001b[0m\u001b[1;33m,\u001b[0m \u001b[0mnotcar_features\u001b[0m\u001b[1;33m)\u001b[0m\u001b[1;33m)\u001b[0m\u001b[1;33m.\u001b[0m\u001b[0mastype\u001b[0m\u001b[1;33m(\u001b[0m\u001b[0mnp\u001b[0m\u001b[1;33m.\u001b[0m\u001b[0mfloat64\u001b[0m\u001b[1;33m)\u001b[0m\u001b[1;33m\u001b[0m\u001b[0m\n",
      "\u001b[1;31mTypeError\u001b[0m: unsupported operand type(s) for -: 'float' and 'module'"
     ]
    }
   ],
   "source": [
    "# Testing functions above - pickle_extracted_features()\n",
    "cspace='RGB'\n",
    "orient = 9\n",
    "pix_per_cell = 4\n",
    "cell_per_block = 2 \n",
    "hog_channel = 'ALL'\n",
    "\n",
    "pickle_extracted_features(cars,notcars,cspace,orient,pix_per_cell,cell_per_block,hog_channel)"
   ]
  },
  {
   "cell_type": "code",
   "execution_count": null,
   "metadata": {
    "collapsed": true
   },
   "outputs": [],
   "source": []
  }
 ],
 "metadata": {
  "kernelspec": {
   "display_name": "Python 3",
   "language": "python",
   "name": "python3"
  },
  "language_info": {
   "codemirror_mode": {
    "name": "ipython",
    "version": 3
   },
   "file_extension": ".py",
   "mimetype": "text/x-python",
   "name": "python",
   "nbconvert_exporter": "python",
   "pygments_lexer": "ipython3",
   "version": "3.5.3"
  }
 },
 "nbformat": 4,
 "nbformat_minor": 2
}
